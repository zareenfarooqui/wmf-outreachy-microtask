{
 "cells": [
  {
   "cell_type": "code",
   "execution_count": 1,
   "metadata": {
    "collapsed": true
   },
   "outputs": [],
   "source": [
    "import urllib3.contrib.pyopenssl"
   ]
  },
  {
   "cell_type": "code",
   "execution_count": 3,
   "metadata": {
    "collapsed": false
   },
   "outputs": [],
   "source": [
    "urllib3.contrib.pyopenssl.inject_into_urllib3()"
   ]
  },
  {
   "cell_type": "code",
   "execution_count": 16,
   "metadata": {
    "collapsed": true
   },
   "outputs": [],
   "source": [
    "import certifi\n",
    "import urllib3\n",
    "import pandas as pd\n",
    "import timeit\n",
    "import json"
   ]
  },
  {
   "cell_type": "code",
   "execution_count": 5,
   "metadata": {
    "collapsed": false
   },
   "outputs": [
    {
     "name": "stdout",
     "output_type": "stream",
     "text": [
      "{\n",
      "  \"headers\": {\n",
      "    \"Accept-Encoding\": \"identity\", \n",
      "    \"Host\": \"httpbin.org\", \n",
      "    \"User-Agent\": \"ZareenFarooquiOutreachyTask/1.0 (https://zareenfarooqui.com; zareenf@gmail.com)\"\n",
      "  }\n",
      "}\n",
      "\n"
     ]
    }
   ],
   "source": [
    "user_agent = {'user-agent': 'ZareenFarooquiOutreachyTask/1.0 (https://zareenfarooqui.com; zareenf@gmail.com)'}\n",
    "http = urllib3.PoolManager(num_pools=1, maxsize=20, headers=user_agent, cert_reqs='CERT_REQUIRED', \n",
    "    ca_certs=certifi.where())\n",
    "r1 = http.urlopen('GET', 'http://httpbin.org/headers')\n",
    "print(r1.data)"
   ]
  },
  {
   "cell_type": "code",
   "execution_count": 7,
   "metadata": {
    "collapsed": false
   },
   "outputs": [
    {
     "name": "stderr",
     "output_type": "stream",
     "text": [
      "Skipping line 23763217: expected 4 fields, saw 6\n",
      "\n"
     ]
    }
   ],
   "source": [
    "#may need to change to an absolute path if the dataset is not in the same folder\n",
    "enwiki_DF = pd.read_csv(\"enwiki_20160204_headings.tsv\", header=0, sep='\\t', error_bad_lines=False)"
   ]
  },
  {
   "cell_type": "code",
   "execution_count": 8,
   "metadata": {
    "collapsed": false
   },
   "outputs": [
    {
     "data": {
      "text/html": [
       "<div>\n",
       "<table border=\"1\" class=\"dataframe\">\n",
       "  <thead>\n",
       "    <tr style=\"text-align: right;\">\n",
       "      <th></th>\n",
       "      <th>page_id</th>\n",
       "      <th>page_title</th>\n",
       "      <th>heading_level</th>\n",
       "      <th>heading_text</th>\n",
       "    </tr>\n",
       "  </thead>\n",
       "  <tbody>\n",
       "    <tr>\n",
       "      <th>0</th>\n",
       "      <td>2336433</td>\n",
       "      <td>Helena Carroll</td>\n",
       "      <td>2</td>\n",
       "      <td>Death</td>\n",
       "    </tr>\n",
       "    <tr>\n",
       "      <th>1</th>\n",
       "      <td>3046517</td>\n",
       "      <td>Articles for deletion/Domotic maid</td>\n",
       "      <td>3</td>\n",
       "      <td>[[Domotic maid]]</td>\n",
       "    </tr>\n",
       "    <tr>\n",
       "      <th>2</th>\n",
       "      <td>2336433</td>\n",
       "      <td>Helena Carroll</td>\n",
       "      <td>2</td>\n",
       "      <td>References</td>\n",
       "    </tr>\n",
       "    <tr>\n",
       "      <th>3</th>\n",
       "      <td>3046518</td>\n",
       "      <td>2005Oct31 Hydnjo ns.png</td>\n",
       "      <td>2</td>\n",
       "      <td>Summary</td>\n",
       "    </tr>\n",
       "    <tr>\n",
       "      <th>4</th>\n",
       "      <td>2336433</td>\n",
       "      <td>Helena Carroll</td>\n",
       "      <td>2</td>\n",
       "      <td>External links</td>\n",
       "    </tr>\n",
       "  </tbody>\n",
       "</table>\n",
       "</div>"
      ],
      "text/plain": [
       "   page_id                          page_title  heading_level  \\\n",
       "0  2336433                      Helena Carroll              2   \n",
       "1  3046517  Articles for deletion/Domotic maid              3   \n",
       "2  2336433                      Helena Carroll              2   \n",
       "3  3046518             2005Oct31 Hydnjo ns.png              2   \n",
       "4  2336433                      Helena Carroll              2   \n",
       "\n",
       "       heading_text  \n",
       "0             Death  \n",
       "1  [[Domotic maid]]  \n",
       "2        References  \n",
       "3          Summary   \n",
       "4    External links  "
      ]
     },
     "execution_count": 8,
     "metadata": {},
     "output_type": "execute_result"
    }
   ],
   "source": [
    "enwiki_DF.head()"
   ]
  },
  {
   "cell_type": "code",
   "execution_count": 9,
   "metadata": {
    "collapsed": true
   },
   "outputs": [],
   "source": [
    "pageIdUnique = enwiki_DF[\"page_id\"].unique().tolist()"
   ]
  },
  {
   "cell_type": "code",
   "execution_count": 10,
   "metadata": {
    "collapsed": false
   },
   "outputs": [
    {
     "data": {
      "text/plain": [
       "[2336433,\n",
       " 3046517,\n",
       " 3046518,\n",
       " 2336437,\n",
       " 2336439,\n",
       " 2336441,\n",
       " 3046527,\n",
       " 3046529,\n",
       " 2336443,\n",
       " 2336450,\n",
       " 3926881,\n",
       " 2336453,\n",
       " 3046537,\n",
       " 3046549,\n",
       " 3046568]"
      ]
     },
     "execution_count": 10,
     "metadata": {},
     "output_type": "execute_result"
    }
   ],
   "source": [
    "pageIdUnique[:15]"
   ]
  },
  {
   "cell_type": "code",
   "execution_count": 12,
   "metadata": {
    "collapsed": false
   },
   "outputs": [
    {
     "data": {
      "text/plain": [
       "6364745"
      ]
     },
     "execution_count": 12,
     "metadata": {},
     "output_type": "execute_result"
    }
   ],
   "source": [
    "len(pageIdUnique)"
   ]
  },
  {
   "cell_type": "code",
   "execution_count": 19,
   "metadata": {
    "collapsed": true
   },
   "outputs": [],
   "source": [
    "pageID_ns = {}\n",
    "\n",
    "def timethis(pageIdUnique):\n",
    "    for each in pageIdUnique[:200]:\n",
    "        wiki_page_id = each\n",
    "        str_url = 'https://en.wikipedia.org/w/api.php?action=query&prop=info&pageids=' + str(wiki_page_id) + '&inprop=url&format=json'\n",
    "        r = http.request('GET', str_url)\n",
    "        parsed_json = json.loads(r.data)\n",
    "        try:\n",
    "            pageID_ns[each] = parsed_json['query']['pages'][str(wiki_page_id)]['ns']\n",
    "        except KeyError as ns:\n",
    "            pageID_ns[each] = '999'"
   ]
  },
  {
   "cell_type": "code",
   "execution_count": 20,
   "metadata": {
    "collapsed": false,
    "scrolled": true
   },
   "outputs": [
    {
     "name": "stdout",
     "output_type": "stream",
     "text": [
      "1 loop, best of 1: 1min 7s per loop\n"
     ]
    }
   ],
   "source": [
    "%timeit -n1 -r1 timethis(pageIdUnique)"
   ]
  },
  {
   "cell_type": "code",
   "execution_count": 21,
   "metadata": {
    "collapsed": false
   },
   "outputs": [
    {
     "data": {
      "text/plain": [
       "{12: 0,\n",
       " 25: 0,\n",
       " 39: 0,\n",
       " 290: 0,\n",
       " 2336433: 0,\n",
       " 2336437: 0,\n",
       " 2336439: 0,\n",
       " 2336441: 0,\n",
       " 2336443: 0,\n",
       " 2336450: 0,\n",
       " 2336453: 0,\n",
       " 2336454: 0,\n",
       " 2336455: 0,\n",
       " 2336460: 0,\n",
       " 2336466: 0,\n",
       " 2336480: 0,\n",
       " 2336482: 4,\n",
       " 2336485: 0,\n",
       " 2336493: 0,\n",
       " 2336494: 0,\n",
       " 2336495: 0,\n",
       " 2336506: 0,\n",
       " 2336511: 0,\n",
       " 2336512: 0,\n",
       " 2336518: 0,\n",
       " 2336521: 0,\n",
       " 2336523: 0,\n",
       " 2336526: 0,\n",
       " 2336527: 0,\n",
       " 2336528: 0,\n",
       " 2336533: 0,\n",
       " 2336540: 0,\n",
       " 2336544: 0,\n",
       " 2336549: 0,\n",
       " 2336561: 0,\n",
       " 2336562: 0,\n",
       " 2336563: 0,\n",
       " 2336565: 0,\n",
       " 2336567: 0,\n",
       " 2336569: 0,\n",
       " 2336574: 0,\n",
       " 2336578: 0,\n",
       " 2336583: 6,\n",
       " 2336586: 6,\n",
       " 2336589: 0,\n",
       " 2336592: 0,\n",
       " 2336593: 4,\n",
       " 2336604: 6,\n",
       " 2336606: 0,\n",
       " 2336608: 0,\n",
       " 2336613: 0,\n",
       " 2336615: 0,\n",
       " 3046517: 4,\n",
       " 3046518: '999',\n",
       " 3046527: 0,\n",
       " 3046529: 0,\n",
       " 3046537: 6,\n",
       " 3046549: 0,\n",
       " 3046568: 0,\n",
       " 3046582: 0,\n",
       " 3046584: 0,\n",
       " 3046585: 0,\n",
       " 3046600: 0,\n",
       " 3046601: 0,\n",
       " 3046603: 0,\n",
       " 3046607: 6,\n",
       " 3046627: 6,\n",
       " 3046628: 0,\n",
       " 3046630: 0,\n",
       " 3046631: 0,\n",
       " 3046636: 4,\n",
       " 3046639: 4,\n",
       " 3046640: 0,\n",
       " 3046649: 4,\n",
       " 3046650: 6,\n",
       " 3046653: 0,\n",
       " 3046657: 0,\n",
       " 3046665: 4,\n",
       " 3046674: 6,\n",
       " 3046679: 0,\n",
       " 3046681: 0,\n",
       " 3046682: 0,\n",
       " 3046701: 0,\n",
       " 3046703: 0,\n",
       " 3046705: 0,\n",
       " 3046708: 0,\n",
       " 3046711: 4,\n",
       " 3046713: 0,\n",
       " 3046715: '999',\n",
       " 3046721: 4,\n",
       " 3046722: 0,\n",
       " 3046723: 0,\n",
       " 3046726: 0,\n",
       " 3046734: 0,\n",
       " 3046736: 4,\n",
       " 3046740: 0,\n",
       " 3046749: 4,\n",
       " 3046768: 0,\n",
       " 3046769: 0,\n",
       " 3046770: 0,\n",
       " 3046786: 6,\n",
       " 3046794: 0,\n",
       " 3046795: 0,\n",
       " 3046797: 0,\n",
       " 3046806: 0,\n",
       " 3046809: 0,\n",
       " 3046813: 0,\n",
       " 3046828: 0,\n",
       " 3046836: 0,\n",
       " 3046837: 0,\n",
       " 3046842: 6,\n",
       " 3046843: 0,\n",
       " 3046848: 4,\n",
       " 3046850: 0,\n",
       " 3046853: 4,\n",
       " 3046860: 0,\n",
       " 3046866: 0,\n",
       " 3046868: 0,\n",
       " 3046869: 0,\n",
       " 3046877: 4,\n",
       " 3046879: 4,\n",
       " 3046886: 0,\n",
       " 3046891: 0,\n",
       " 3046893: 0,\n",
       " 3046894: 0,\n",
       " 3046912: 0,\n",
       " 3046917: 0,\n",
       " 3046919: 0,\n",
       " 3046936: 0,\n",
       " 3046954: 0,\n",
       " 3046955: 0,\n",
       " 3046962: 0,\n",
       " 3046963: 0,\n",
       " 3046974: 0,\n",
       " 3046976: 0,\n",
       " 3046979: 4,\n",
       " 3046983: 0,\n",
       " 3046989: 0,\n",
       " 3926881: 0,\n",
       " 3926883: 0,\n",
       " 3926894: 0,\n",
       " 3926896: 0,\n",
       " 3926901: 6,\n",
       " 3926902: 0,\n",
       " 3926905: 4,\n",
       " 3926909: 0,\n",
       " 3926918: 6,\n",
       " 3926921: 0,\n",
       " 3926931: 0,\n",
       " 3926937: 0,\n",
       " 3926943: 0,\n",
       " 3926947: 0,\n",
       " 3926959: 0,\n",
       " 3926971: 4,\n",
       " 3927007: 4,\n",
       " 3927018: 4,\n",
       " 3927034: 6,\n",
       " 3927035: 6,\n",
       " 3927041: 0,\n",
       " 3927045: 4,\n",
       " 3927051: 0,\n",
       " 3927053: 4,\n",
       " 3927066: 0,\n",
       " 3927071: 4,\n",
       " 3927074: 4,\n",
       " 3927075: 0,\n",
       " 3927092: 0,\n",
       " 3927116: 0,\n",
       " 3927118: 0,\n",
       " 3927125: 0,\n",
       " 3927132: 0,\n",
       " 3927139: 0,\n",
       " 3927143: 0,\n",
       " 3927150: 0,\n",
       " 3927153: 0,\n",
       " 3927161: 0,\n",
       " 3927165: 4,\n",
       " 3927171: 0,\n",
       " 3927177: 0,\n",
       " 3927182: 0,\n",
       " 3927183: 0,\n",
       " 3927222: 0,\n",
       " 3927248: 0,\n",
       " 3927249: 0,\n",
       " 3927256: 0,\n",
       " 3927257: 0,\n",
       " 3927286: 0,\n",
       " 3927303: 0,\n",
       " 3927309: 0,\n",
       " 3927310: 0,\n",
       " 3927312: 0,\n",
       " 3927314: 0,\n",
       " 3927322: 0,\n",
       " 3927328: 0,\n",
       " 3927335: 4,\n",
       " 3927336: 6,\n",
       " 3927346: 0,\n",
       " 3927352: 0,\n",
       " 3927365: 4,\n",
       " 3927370: 0}"
      ]
     },
     "execution_count": 21,
     "metadata": {},
     "output_type": "execute_result"
    }
   ],
   "source": [
    "pageID_ns"
   ]
  },
  {
   "cell_type": "code",
   "execution_count": null,
   "metadata": {
    "collapsed": true
   },
   "outputs": [],
   "source": []
  }
 ],
 "metadata": {
  "kernelspec": {
   "display_name": "Python [default]",
   "language": "python",
   "name": "python2"
  },
  "language_info": {
   "codemirror_mode": {
    "name": "ipython",
    "version": 2
   },
   "file_extension": ".py",
   "mimetype": "text/x-python",
   "name": "python",
   "nbconvert_exporter": "python",
   "pygments_lexer": "ipython2",
   "version": "2.7.12"
  }
 },
 "nbformat": 4,
 "nbformat_minor": 1
}
